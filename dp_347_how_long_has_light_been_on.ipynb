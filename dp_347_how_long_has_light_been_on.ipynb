{
 "cells": [
  {
   "cell_type": "code",
   "execution_count": 1,
   "metadata": {
    "collapsed": true
   },
   "outputs": [],
   "source": [
    "def print_menu():\n",
    "    while True:\n",
    "        print \"Welcome to the LightonCalc\"\n",
    "        print \"This little program takes in the check in time and check out time of a person in a room, and calculates how long the light is on for in the room\"\n",
    "        print \"Please enter your choice:\"\n",
    "        print \"1 - Add Person\"\n",
    "        print \"2 - Add Room\"\n",
    "        print \"3 - Calculate Result\""
   ]
  },
  {
   "cell_type": "code",
   "execution_count": null,
   "metadata": {},
   "outputs": [],
   "source": []
  },
  {
   "cell_type": "code",
   "execution_count": null,
   "metadata": {
    "collapsed": true
   },
   "outputs": [],
   "source": []
  }
 ],
 "metadata": {
  "kernelspec": {
   "display_name": "Python 2",
   "language": "python",
   "name": "python2"
  },
  "language_info": {
   "codemirror_mode": {
    "name": "ipython",
    "version": 2
   },
   "file_extension": ".py",
   "mimetype": "text/x-python",
   "name": "python",
   "nbconvert_exporter": "python",
   "pygments_lexer": "ipython2",
   "version": "2.7.13"
  }
 },
 "nbformat": 4,
 "nbformat_minor": 2
}
