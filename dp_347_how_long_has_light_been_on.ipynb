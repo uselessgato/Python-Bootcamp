{
 "cells": [
  {
   "cell_type": "code",
   "execution_count": 1,
   "metadata": {
    "collapsed": true
   },
   "outputs": [],
   "source": [
    "def print_menu():\n",
    "        print \"Welcome to the LightonCalc\"\n",
    "        print \"This little program takes in the check in time and check out time of a person in a room, and calculates how long the light is on for in the room\"\n",
    "        print \"Please enter your choice:\"\n",
    "        print \"1 - Add Person\"\n",
    "        print \"2 - Add Room\"\n",
    "        print \"3 - Calculate Result\"\n",
    "        print \"4 - Exit\"\n",
    "        \n",
    "def accept_input():\n",
    "    data_set = [][]\n",
    "    person = 0\n",
    "    room = 0\n",
    "    While True:\n",
    "        print_menu()\n",
    "        input = raw_input(\"Selection: \")\n",
    "        try:\n",
    "            int(input)\n",
    "        except:\n",
    "            print \"Please enter a digit.\"\n",
    "            continue\n",
    "        \n",
    "        if input > 4 or input < 1:\n",
    "            print \"Please select digit from 1 to 4.\"\n",
    "            continue\n",
    "        elif input == 1:\n",
    "            # TODO\n",
    "        elif input == 2:\n",
    "            # TODO\n",
    "        elif input == 3:\n",
    "            # TODO\n",
    "        else:\n",
    "            break\n",
    "        "
   ]
  },
  {
   "cell_type": "code",
   "execution_count": null,
   "metadata": {},
   "outputs": [],
   "source": []
  },
  {
   "cell_type": "code",
   "execution_count": null,
   "metadata": {
    "collapsed": true
   },
   "outputs": [],
   "source": []
  }
 ],
 "metadata": {
  "kernelspec": {
   "display_name": "Python 2",
   "language": "python",
   "name": "python2"
  },
  "language_info": {
   "codemirror_mode": {
    "name": "ipython",
    "version": 2
   },
   "file_extension": ".py",
   "mimetype": "text/x-python",
   "name": "python",
   "nbconvert_exporter": "python",
   "pygments_lexer": "ipython2",
   "version": "2.7.13"
  }
 },
 "nbformat": 4,
 "nbformat_minor": 2
}
